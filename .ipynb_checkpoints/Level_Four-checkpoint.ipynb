{
 "cells": [
  {
   "cell_type": "code",
   "execution_count": 10,
   "id": "9e56a876",
   "metadata": {},
   "outputs": [
    {
     "name": "stdout",
     "output_type": "stream",
     "text": [
      "Select a game mode by entering 1 or 2: 1, Human guesses number, or 2, computer guesses number.2\n",
      "pick a number between one and ten:7\n",
      "the computer guesses a number: 5\n",
      "the computer guesses a number: 8\n",
      "the computer guesses a number: 7\n",
      "the computer got the number 7 right!\n"
     ]
    }
   ],
   "source": [
    "from random import randint\n",
    "\n",
    "user_select = int(input('Select a game mode by entering 1 or 2: 1, Human guesses number, or 2, computer guesses number.'))\n",
    "\n",
    "if user_select == 1:\n",
    "    turns = 3\n",
    "\n",
    "    computer = randint(1, 10)\n",
    "\n",
    "\n",
    "    while turns > 0:\n",
    "\n",
    "        if turns == 0:\n",
    "            print('you lost!')\n",
    "            break\n",
    "\n",
    "        player = int(input('Pick a number between one and ten:'))\n",
    "\n",
    "        if player > 10 or player < 0:\n",
    "            print('That is not in the specififed range', player)\n",
    "            continue\n",
    "\n",
    "        if player == computer:\n",
    "            print('You got the correct number!', computer, 'was the right answer!')\n",
    "            break\n",
    "        elif player < computer:\n",
    "            print('Too low!')\n",
    "            turns -= 1\n",
    "        elif player > computer:\n",
    "            print('Too high!')\n",
    "            turns -= 1\n",
    "else:\n",
    "    def computer_guess(num):\n",
    "        turns = 3\n",
    "        low = 1\n",
    "        high = 10\n",
    "        guess = 0\n",
    "        while turns > 0:\n",
    "            guess = (low+high)//2\n",
    "            print('the computer guesses a number:', guess)\n",
    "\n",
    "            if guess == num:\n",
    "                print('the computer got the number', num, 'right!')\n",
    "                break\n",
    "            elif guess > num:\n",
    "                high = guess\n",
    "                turns = turns - 1\n",
    "            elif guess < num:\n",
    "                low = guess + 1\n",
    "                turns = turns - 1\n",
    "\n",
    "            if turns == 0:\n",
    "                print('the computer lost!')\n",
    "                break\n",
    "            \n",
    "    num = int(input('pick a number between one and ten:'))\n",
    "\n",
    "    if num > 10 or num < 1:\n",
    "        print('number is not in range')\n",
    "    else:\n",
    "        computer_guess(num)"
   ]
  }
 ],
 "metadata": {
  "kernelspec": {
   "display_name": "Python 3 (ipykernel)",
   "language": "python",
   "name": "python3"
  },
  "language_info": {
   "codemirror_mode": {
    "name": "ipython",
    "version": 3
   },
   "file_extension": ".py",
   "mimetype": "text/x-python",
   "name": "python",
   "nbconvert_exporter": "python",
   "pygments_lexer": "ipython3",
   "version": "3.8.9"
  }
 },
 "nbformat": 4,
 "nbformat_minor": 5
}
