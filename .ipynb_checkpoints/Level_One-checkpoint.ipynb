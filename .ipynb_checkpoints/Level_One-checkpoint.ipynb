{
 "cells": [
  {
   "cell_type": "code",
   "execution_count": null,
   "id": "44312a46",
   "metadata": {},
   "outputs": [],
   "source": [
    "from random import randint\n",
    "\n",
    "turns = 3\n",
    "\n",
    "computer = randint(1, 10)\n",
    "\n",
    "\n",
    "while turns > 0:\n",
    "    \n",
    "    if turns == 0:\n",
    "        print('you lost!')\n",
    "        break\n",
    "    \n",
    "    player = int(input('Pick a number between one and ten:'))\n",
    "    \n",
    "    if player > 10 or player < 0:\n",
    "        print('That is not in the specififed range', player)\n",
    "        continue\n",
    "        \n",
    "    if player == computer:\n",
    "        print('You got the correct number!', computer, 'was the right answer!')\n",
    "        break\n",
    "    elif player < computer:\n",
    "        print('Too low!')\n",
    "        turns -= 1\n",
    "        continue\n",
    "    elif player > computer:\n",
    "        print('Too high!')\n",
    "        turns -= 1\n",
    "        continue\n",
    "    "
   ]
  }
 ],
 "metadata": {
  "kernelspec": {
   "display_name": "Python 3 (ipykernel)",
   "language": "python",
   "name": "python3"
  },
  "language_info": {
   "codemirror_mode": {
    "name": "ipython",
    "version": 3
   },
   "file_extension": ".py",
   "mimetype": "text/x-python",
   "name": "python",
   "nbconvert_exporter": "python",
   "pygments_lexer": "ipython3",
   "version": "3.8.9"
  }
 },
 "nbformat": 4,
 "nbformat_minor": 5
}
