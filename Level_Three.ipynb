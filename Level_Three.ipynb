{
 "cells": [
  {
   "cell_type": "code",
   "execution_count": 17,
   "id": "440984a9",
   "metadata": {},
   "outputs": [
    {
     "name": "stdout",
     "output_type": "stream",
     "text": [
      "pick a number between one and one hundred:75\n",
      "the computer guesses a number: 50\n",
      "Computer has made 1 guess!\n",
      "the computer guesses a number: 75\n",
      "The computer guessed the number 75 in 1 guesse\n"
     ]
    }
   ],
   "source": [
    "from random import randint\n",
    "\n",
    "def computer_guess(num):\n",
    "    guesses = 0\n",
    "    low = 1\n",
    "    high = 100\n",
    "    guess = (low+high)//2\n",
    "    while guess != num:\n",
    "        guess = (low+high)//2\n",
    "        print('the computer guesses a number:', guess)\n",
    "        \n",
    "        if guess == num:\n",
    "            print(f\"The computer guessed the number {num} in {guesses} guess{'es' if guesses > 1 else ''}\")\n",
    "            break\n",
    "        elif guess > num:\n",
    "            high = guess\n",
    "            guesses += 1\n",
    "            print(f\"Computer has made {guesses} guess{'es' if guesses > 1 else ''}\")\n",
    "        elif guess < num:\n",
    "            low = guess + 1\n",
    "            guesses += 1\n",
    "            print(f\"Computer has made {guesses} guess{'es' if guesses > 1 else ''}!\")\n",
    "\n",
    "            \n",
    "num = int(input('pick a number between one and one hundred:'))\n",
    "\n",
    "if num > 100 or num < 1:\n",
    "    print('number is not in range')\n",
    "else:\n",
    "    computer_guess(num)"
   ]
  }
 ],
 "metadata": {
  "kernelspec": {
   "display_name": "Python 3 (ipykernel)",
   "language": "python",
   "name": "python3"
  },
  "language_info": {
   "codemirror_mode": {
    "name": "ipython",
    "version": 3
   },
   "file_extension": ".py",
   "mimetype": "text/x-python",
   "name": "python",
   "nbconvert_exporter": "python",
   "pygments_lexer": "ipython3",
   "version": "3.8.9"
  }
 },
 "nbformat": 4,
 "nbformat_minor": 5
}
