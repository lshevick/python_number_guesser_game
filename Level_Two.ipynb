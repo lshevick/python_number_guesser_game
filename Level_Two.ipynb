{
 "cells": [
  {
   "cell_type": "code",
   "execution_count": 110,
   "id": "c5b2e646",
   "metadata": {},
   "outputs": [
    {
     "name": "stdout",
     "output_type": "stream",
     "text": [
      "pick a number between one and ten:1\n",
      "the computer guesses a number: 5\n",
      "the computer guesses a number: 3\n",
      "the computer guesses a number: 2\n",
      "the computer lost!\n"
     ]
    }
   ],
   "source": [
    "from random import randint\n",
    "\n",
    "def computer_guess(num):\n",
    "    turns = 3\n",
    "    low = 1\n",
    "    high = 10\n",
    "    guess = 0\n",
    "    while turns > 0:\n",
    "        guess = (low+high)//2\n",
    "        print('the computer guesses a number:', guess)\n",
    "        \n",
    "        if guess == num:\n",
    "            print('the computer got the number', num, 'right!')\n",
    "            break\n",
    "        elif guess > num:\n",
    "            high = guess\n",
    "            turns = turns - 1\n",
    "        elif guess < num:\n",
    "            low = guess + 1\n",
    "            turns = turns - 1\n",
    "            \n",
    "        if turns == 0:\n",
    "            print('the computer lost!')\n",
    "            break\n",
    "            \n",
    "num = int(input('pick a number between one and ten:'))\n",
    "\n",
    "if num > 10 or num < 1:\n",
    "    print('number is not in range')\n",
    "else:\n",
    "    computer_guess(num)"
   ]
  }
 ],
 "metadata": {
  "kernelspec": {
   "display_name": "Python 3 (ipykernel)",
   "language": "python",
   "name": "python3"
  },
  "language_info": {
   "codemirror_mode": {
    "name": "ipython",
    "version": 3
   },
   "file_extension": ".py",
   "mimetype": "text/x-python",
   "name": "python",
   "nbconvert_exporter": "python",
   "pygments_lexer": "ipython3",
   "version": "3.8.9"
  }
 },
 "nbformat": 4,
 "nbformat_minor": 5
}
